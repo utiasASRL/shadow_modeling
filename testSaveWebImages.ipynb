{
 "cells": [
  {
   "cell_type": "code",
   "execution_count": 10,
   "metadata": {
    "collapsed": false
   },
   "outputs": [],
   "source": [
    "# to access the OS disk\n",
    "import os\n",
    "\n",
    "# deal with URL images\n",
    "import urllib\n",
    "\n",
    "# for data structure\n",
    "import pandas as pd\n"
   ]
  },
  {
   "cell_type": "code",
   "execution_count": 20,
   "metadata": {
    "collapsed": false
   },
   "outputs": [
    {
     "data": {
      "text/html": [
       "<div>\n",
       "<table border=\"1\" class=\"dataframe\">\n",
       "  <thead>\n",
       "    <tr style=\"text-align: right;\">\n",
       "      <th></th>\n",
       "      <th>lat</th>\n",
       "      <th>long</th>\n",
       "      <th>time_zone</th>\n",
       "      <th>webcam_url</th>\n",
       "    </tr>\n",
       "  </thead>\n",
       "  <tbody>\n",
       "    <tr>\n",
       "      <th>California_School</th>\n",
       "      <td>32.668</td>\n",
       "      <td>-116.2957</td>\n",
       "      <td>UTC-08:00</td>\n",
       "      <td>http://wwc.instacam.com/instacamimg/BLVRD/BLVR...</td>\n",
       "    </tr>\n",
       "    <tr>\n",
       "      <th>Cuyamaca_Peak</th>\n",
       "      <td>32.91678</td>\n",
       "      <td>-116.6318</td>\n",
       "      <td>UTC-08:00</td>\n",
       "      <td>http://www.creekbed.org/cuyacam_000.jpg</td>\n",
       "    </tr>\n",
       "    <tr>\n",
       "      <th>Tenerife_Observatory</th>\n",
       "      <td>28.30256</td>\n",
       "      <td>-16.51002</td>\n",
       "      <td>UTC+00:00</td>\n",
       "      <td>http://www.telescope.org/v4webcams-i.php?cam=t...</td>\n",
       "    </tr>\n",
       "    <tr>\n",
       "      <th>Kelowna_Airport</th>\n",
       "      <td>49.95788</td>\n",
       "      <td>-119.3787</td>\n",
       "      <td>UTC-08:00</td>\n",
       "      <td>http://www.metcam.navcanada.ca/dawc_images/wxc...</td>\n",
       "    </tr>\n",
       "    <tr>\n",
       "      <th>Phoenix_Arizona</th>\n",
       "      <td>33.58373</td>\n",
       "      <td>-112.0721</td>\n",
       "      <td>UTC-07:00</td>\n",
       "      <td>http://www.nps.gov/webcams-yell/mammoth3.jpg</td>\n",
       "    </tr>\n",
       "  </tbody>\n",
       "</table>\n",
       "</div>"
      ],
      "text/plain": [
       "                           lat      long  time_zone  \\\n",
       "California_School       32.668 -116.2957  UTC-08:00   \n",
       "Cuyamaca_Peak         32.91678 -116.6318  UTC-08:00   \n",
       "Tenerife_Observatory  28.30256 -16.51002  UTC+00:00   \n",
       "Kelowna_Airport       49.95788 -119.3787  UTC-08:00   \n",
       "Phoenix_Arizona       33.58373 -112.0721  UTC-07:00   \n",
       "\n",
       "                                                             webcam_url  \n",
       "California_School     http://wwc.instacam.com/instacamimg/BLVRD/BLVR...  \n",
       "Cuyamaca_Peak                   http://www.creekbed.org/cuyacam_000.jpg  \n",
       "Tenerife_Observatory  http://www.telescope.org/v4webcams-i.php?cam=t...  \n",
       "Kelowna_Airport       http://www.metcam.navcanada.ca/dawc_images/wxc...  \n",
       "Phoenix_Arizona            http://www.nps.gov/webcams-yell/mammoth3.jpg  "
      ]
     },
     "execution_count": 20,
     "metadata": {},
     "output_type": "execute_result"
    }
   ],
   "source": [
    "cam_names = {'Cuyamaca_Peak',\n",
    "              'California_School',\n",
    "              'Tenerife_Observatory',\n",
    "              'Kelowna_Airport',\n",
    "              'Phoenix_Arizona',\n",
    "             }\n",
    "\n",
    "metadata = pd.DataFrame(index=cam_names, columns=('lat', 'long', 'time_zone', 'webcam_url'))\n",
    "\n",
    "metadata.loc['Cuyamaca_Peak'] = (32.916783, -116.631822,'UTC-08:00','http://www.creekbed.org/cuyacam_000.jpg')\n",
    "metadata.loc['California_School'] = (32.668000, -116.295743, 'UTC-08:00', 'http://wwc.instacam.com/instacamimg/BLVRD/BLVRD_l.jpg')\n",
    "metadata.loc['Tenerife_Observatory'] = (28.302559, -16.510025, 'UTC+00:00', 'http://www.telescope.org/v4webcams-i.php?cam=teide')\n",
    "metadata.loc['Kelowna_Airport'] = (49.957878, -119.378719, 'UTC-08:00', 'http://www.metcam.navcanada.ca/dawc_images/wxcam/CYLW/CYLW_N-full-e.jpeg')\n",
    "metadata.loc['Phoenix_Arizona'] = (33.583734, -112.072115, 'UTC-07:00', 'http://www.nps.gov/webcams-yell/mammoth3.jpg')\n",
    "metadata"
   ]
  },
  {
   "cell_type": "code",
   "execution_count": 9,
   "metadata": {
    "collapsed": false
   },
   "outputs": [],
   "source": [
    "# check if folders exist\n",
    "for name in webcam_url:\n",
    "    path = './' + name\n",
    "    if not os.path.exists(path):\n",
    "        os.makedirs(path)"
   ]
  },
  {
   "cell_type": "code",
   "execution_count": null,
   "metadata": {
    "collapsed": true
   },
   "outputs": [],
   "source": [
    "urllib.urlretrieve(\"http://www.digimouth.com/news/media/2011/09/google-logo.jpg\", \"local-filename.jpg\")"
   ]
  },
  {
   "cell_type": "code",
   "execution_count": null,
   "metadata": {
    "collapsed": false
   },
   "outputs": [],
   "source": []
  },
  {
   "cell_type": "code",
   "execution_count": null,
   "metadata": {
    "collapsed": true
   },
   "outputs": [],
   "source": []
  }
 ],
 "metadata": {
  "kernelspec": {
   "display_name": "Python 2",
   "language": "python",
   "name": "python2"
  },
  "language_info": {
   "codemirror_mode": {
    "name": "ipython",
    "version": 2
   },
   "file_extension": ".py",
   "mimetype": "text/x-python",
   "name": "python",
   "nbconvert_exporter": "python",
   "pygments_lexer": "ipython2",
   "version": "2.7.10"
  }
 },
 "nbformat": 4,
 "nbformat_minor": 0
}
