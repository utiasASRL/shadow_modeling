{
 "cells": [
  {
   "cell_type": "code",
   "execution_count": 125,
   "metadata": {
    "collapsed": false
   },
   "outputs": [],
   "source": [
    "from IPython.display import clear_output\n",
    "from IPython.display import display\n",
    "\n",
    "# to access the OS disk\n",
    "import os\n",
    "import sys\n",
    "\n",
    "# deal with URL images\n",
    "import urllib\n",
    "\n",
    "# for data structure\n",
    "import pandas as pd\n",
    "\n",
    "# image processing\n",
    "from PIL import Image\n",
    "\n",
    "# time management\n",
    "import datetime\n",
    "import time\n"
   ]
  },
  {
   "cell_type": "code",
   "execution_count": 80,
   "metadata": {
    "collapsed": false
   },
   "outputs": [
    {
     "data": {
      "text/html": [
       "<div>\n",
       "<table border=\"1\" class=\"dataframe\">\n",
       "  <thead>\n",
       "    <tr style=\"text-align: right;\">\n",
       "      <th></th>\n",
       "      <th>lat</th>\n",
       "      <th>long</th>\n",
       "      <th>utc_offset</th>\n",
       "      <th>webcam_url</th>\n",
       "      <th>crop_left</th>\n",
       "      <th>crop_top</th>\n",
       "      <th>crop_right</th>\n",
       "      <th>crop_bottom</th>\n",
       "    </tr>\n",
       "  </thead>\n",
       "  <tbody>\n",
       "    <tr>\n",
       "      <th>California_School</th>\n",
       "      <td>32.668</td>\n",
       "      <td>-116.2957</td>\n",
       "      <td>-8</td>\n",
       "      <td>http://wwc.instacam.com/instacamimg/BLVRD/BLVR...</td>\n",
       "      <td>50</td>\n",
       "      <td>0</td>\n",
       "      <td>1280</td>\n",
       "      <td>720</td>\n",
       "    </tr>\n",
       "    <tr>\n",
       "      <th>Cuyamaca_Peak</th>\n",
       "      <td>32.91678</td>\n",
       "      <td>-116.6318</td>\n",
       "      <td>-8</td>\n",
       "      <td>http://www.creekbed.org/cuyacam_000.jpg</td>\n",
       "      <td>0</td>\n",
       "      <td>0</td>\n",
       "      <td>1280</td>\n",
       "      <td>610</td>\n",
       "    </tr>\n",
       "    <tr>\n",
       "      <th>Tenerife_Observatory</th>\n",
       "      <td>28.30256</td>\n",
       "      <td>-16.51002</td>\n",
       "      <td>0</td>\n",
       "      <td>http://www.telescope.org/v4webcams-i.php?cam=t...</td>\n",
       "      <td>0</td>\n",
       "      <td>0</td>\n",
       "      <td>640</td>\n",
       "      <td>460</td>\n",
       "    </tr>\n",
       "    <tr>\n",
       "      <th>Kelowna_Airport</th>\n",
       "      <td>49.95788</td>\n",
       "      <td>-119.3787</td>\n",
       "      <td>-8</td>\n",
       "      <td>http://www.metcam.navcanada.ca/dawc_images/wxc...</td>\n",
       "      <td>15</td>\n",
       "      <td>53</td>\n",
       "      <td>769</td>\n",
       "      <td>600</td>\n",
       "    </tr>\n",
       "    <tr>\n",
       "      <th>Phoenix_Arizona</th>\n",
       "      <td>33.58373</td>\n",
       "      <td>-112.0721</td>\n",
       "      <td>-7</td>\n",
       "      <td>http://www.phoenixvis.net/CreateMain.aspx?t=ma...</td>\n",
       "      <td>0</td>\n",
       "      <td>0</td>\n",
       "      <td>800</td>\n",
       "      <td>458</td>\n",
       "    </tr>\n",
       "  </tbody>\n",
       "</table>\n",
       "</div>"
      ],
      "text/plain": [
       "                           lat      long utc_offset  \\\n",
       "California_School       32.668 -116.2957         -8   \n",
       "Cuyamaca_Peak         32.91678 -116.6318         -8   \n",
       "Tenerife_Observatory  28.30256 -16.51002          0   \n",
       "Kelowna_Airport       49.95788 -119.3787         -8   \n",
       "Phoenix_Arizona       33.58373 -112.0721         -7   \n",
       "\n",
       "                                                             webcam_url  \\\n",
       "California_School     http://wwc.instacam.com/instacamimg/BLVRD/BLVR...   \n",
       "Cuyamaca_Peak                   http://www.creekbed.org/cuyacam_000.jpg   \n",
       "Tenerife_Observatory  http://www.telescope.org/v4webcams-i.php?cam=t...   \n",
       "Kelowna_Airport       http://www.metcam.navcanada.ca/dawc_images/wxc...   \n",
       "Phoenix_Arizona       http://www.phoenixvis.net/CreateMain.aspx?t=ma...   \n",
       "\n",
       "                     crop_left crop_top crop_right crop_bottom  \n",
       "California_School           50        0       1280         720  \n",
       "Cuyamaca_Peak                0        0       1280         610  \n",
       "Tenerife_Observatory         0        0        640         460  \n",
       "Kelowna_Airport             15       53        769         600  \n",
       "Phoenix_Arizona              0        0        800         458  "
      ]
     },
     "execution_count": 80,
     "metadata": {},
     "output_type": "execute_result"
    }
   ],
   "source": [
    "cam_names = {'Cuyamaca_Peak',\n",
    "              'California_School',\n",
    "              'Tenerife_Observatory',\n",
    "              'Kelowna_Airport',\n",
    "              'Phoenix_Arizona'\n",
    "             }\n",
    "\n",
    "metadata = pd.DataFrame(index=cam_names, columns=('lat', 'long', 'utc_offset', 'webcam_url', 'crop_left', 'crop_top', 'crop_right', 'crop_bottom'))\n",
    "\n",
    "metadata.loc['Cuyamaca_Peak'] = (32.916783, -116.631822, -8,'http://www.creekbed.org/cuyacam_000.jpg', 0, 0, 1280, 610)\n",
    "metadata.loc['California_School'] = (32.668000, -116.295743, -8, 'http://wwc.instacam.com/instacamimg/BLVRD/BLVRD_l.jpg', 50, 0, 1280, 720)\n",
    "metadata.loc['Tenerife_Observatory'] = (28.302559, -16.510025, 0, 'http://www.telescope.org/v4webcams-i.php?cam=teide', 0, 0, 640, 460)\n",
    "metadata.loc['Kelowna_Airport'] = (49.957878, -119.378719, -8, 'http://www.metcam.navcanada.ca/dawc_images/wxcam/CYLW/CYLW_N-full-e.jpeg', 15, 53, 769, 600)\n",
    "metadata.loc['Phoenix_Arizona'] = (33.583734, -112.072115, -7, 'http://www.phoenixvis.net/CreateMain.aspx?t=main&p=/images/photos-main/SOMT1.jpg', 0, 0, 800, 458)\n",
    "metadata"
   ]
  },
  {
   "cell_type": "code",
   "execution_count": null,
   "metadata": {
    "collapsed": false
   },
   "outputs": [
    {
     "data": {
      "text/plain": [
       "'Numer of images recorded: 1 total time: 0:00:00'"
      ]
     },
     "metadata": {},
     "output_type": "display_data"
    }
   ],
   "source": [
    "sleep_time = 10 # in minutes\n",
    "\n",
    "counter = 0\n",
    "\n",
    "while(True):\n",
    "    for name in metadata.index:\n",
    "        path = './' + name\n",
    "\n",
    "        # check if folders exist\n",
    "        if not os.path.exists(path):\n",
    "            os.makedirs(path)\n",
    "\n",
    "        # save images\n",
    "        image_name = str(counter) + \".jpg\"\n",
    "        image_path = path + '/' + image_name\n",
    "        urllib.urlretrieve(metadata.loc[name].webcam_url, image_path)\n",
    "\n",
    "        # Dealing with time zones\n",
    "        utc_now = datetime.datetime.utcnow()\n",
    "        utc_dt = datetime.timedelta(hours = metadata.loc[name, 'utc_offset'])\n",
    "\n",
    "        # crop image to remove artifacts caused by texts\n",
    "        time.sleep(1)\n",
    "        try:\n",
    "            original = Image.open(image_path)\n",
    "            crop_measur = metadata.loc[name, ['crop_left', 'crop_top', 'crop_right', 'crop_bottom'] ].values\n",
    "            original = original.crop(crop_measur)\n",
    "            original.save(image_path)\n",
    "\n",
    "            # write the information\n",
    "            time_file_path = path + '/' + name + '_time.csv'\n",
    "            if not os.path.exists(time_file_path):\n",
    "                with open(time_file_path, 'a') as f:\n",
    "                    f.write('file_name, local_time \\n')\n",
    "\n",
    "\n",
    "            with open(time_file_path, 'a') as f:\n",
    "                f.write(image_name + ', ' + str(utc_now + utc_dt) + '\\n')\n",
    "        except:\n",
    "            error_file_path = time_file_path = path + '/error_log.txt'\n",
    "            e = sys.exc_info()[0]\n",
    "            \n",
    "            with open(error_file_path, 'a') as f:\n",
    "                f.write(image_name + ': ' + str(e) + ' \\n')            \n",
    "\n",
    "    \n",
    "\n",
    "    \n",
    "    rec_duration = datetime.timedelta(minutes = counter*sleep_time)\n",
    "    counter += 1\n",
    "    clear_output()\n",
    "    display('Numer of images recorded: ' + str(counter) + ' total time: ' + str(rec_duration))\n",
    "        \n",
    "    time.sleep(sleep_time*60) # in seconds"
   ]
  },
  {
   "cell_type": "code",
   "execution_count": null,
   "metadata": {
    "collapsed": false
   },
   "outputs": [],
   "source": []
  },
  {
   "cell_type": "code",
   "execution_count": null,
   "metadata": {
    "collapsed": false
   },
   "outputs": [],
   "source": []
  },
  {
   "cell_type": "code",
   "execution_count": null,
   "metadata": {
    "collapsed": false
   },
   "outputs": [],
   "source": []
  },
  {
   "cell_type": "code",
   "execution_count": null,
   "metadata": {
    "collapsed": true
   },
   "outputs": [],
   "source": []
  }
 ],
 "metadata": {
  "kernelspec": {
   "display_name": "Python 2",
   "language": "python",
   "name": "python2"
  },
  "language_info": {
   "codemirror_mode": {
    "name": "ipython",
    "version": 2
   },
   "file_extension": ".py",
   "mimetype": "text/x-python",
   "name": "python",
   "nbconvert_exporter": "python",
   "pygments_lexer": "ipython2",
   "version": "2.7.10"
  }
 },
 "nbformat": 4,
 "nbformat_minor": 0
}
